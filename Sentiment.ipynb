{
  "nbformat": 4,
  "nbformat_minor": 0,
  "metadata": {
    "colab": {
      "name": "Sentiment.ipynb",
      "provenance": [],
      "collapsed_sections": [],
      "authorship_tag": "ABX9TyNo3PS6Z382DGBNUSi8nMNS",
      "include_colab_link": true
    },
    "kernelspec": {
      "name": "python3",
      "display_name": "Python 3"
    },
    "language_info": {
      "name": "python"
    }
  },
  "cells": [
    {
      "cell_type": "markdown",
      "metadata": {
        "id": "view-in-github",
        "colab_type": "text"
      },
      "source": [
        "<a href=\"https://colab.research.google.com/github/Ilyaas189/CE-888-Assignment-2/blob/main/Sentiment.ipynb\" target=\"_parent\"><img src=\"https://colab.research.google.com/assets/colab-badge.svg\" alt=\"Open In Colab\"/></a>"
      ]
    },
    {
      "cell_type": "code",
      "metadata": {
        "colab": {
          "base_uri": "https://localhost:8080/"
        },
        "id": "Q6_-FhTGUyiR",
        "outputId": "5e97fe10-208c-4ed9-86c3-e1694d394724"
      },
      "source": [
        "import nltk\n",
        "import os\n",
        "nltk.download('vader_lexicon')\n",
        "nltk.download('stopwords')\n",
        "nltk.download('wordnet')\n",
        "nltk.download('punkt')\n",
        "\n",
        "from nltk.corpus import stopwords\n",
        "from nltk.stem import WordNetLemmatizer\n",
        "from nltk.tokenize import word_tokenize\n",
        "lemma = WordNetLemmatizer()\n",
        "import re\n",
        "from sklearn.preprocessing import LabelEncoder\n",
        "from sklearn.feature_extraction.text import TfidfVectorizer,CountVectorizer\n",
        "from sklearn.metrics import classification_report, confusion_matrix,accuracy_score"
      ],
      "execution_count": 3,
      "outputs": [
        {
          "output_type": "stream",
          "text": [
            "[nltk_data] Downloading package vader_lexicon to /root/nltk_data...\n",
            "[nltk_data] Downloading package stopwords to /root/nltk_data...\n",
            "[nltk_data]   Unzipping corpora/stopwords.zip.\n",
            "[nltk_data] Downloading package wordnet to /root/nltk_data...\n",
            "[nltk_data]   Unzipping corpora/wordnet.zip.\n",
            "[nltk_data] Downloading package punkt to /root/nltk_data...\n",
            "[nltk_data]   Unzipping tokenizers/punkt.zip.\n"
          ],
          "name": "stdout"
        }
      ]
    },
    {
      "cell_type": "markdown",
      "metadata": {
        "id": "Nc0h4E2ObCAJ"
      },
      "source": [
        "**Loading the train and test data**"
      ]
    },
    {
      "cell_type": "code",
      "metadata": {
        "id": "xAoGGvejU7Z0"
      },
      "source": [
        "with open(\"train_text.txt\" ,encoding=\"utf8\") as f:\n",
        "    X_train = f.readlines()\n",
        "with open('train_labels.txt',encoding=\"utf8\") as f:\n",
        "    y_train = f.readlines()\n",
        "with open('test_text.txt',encoding=\"utf8\") as f:\n",
        "    X_test = f.readlines()\n",
        "with open('test_labels.txt',encoding=\"utf8\") as f:\n",
        "    y_test = f.readlines()"
      ],
      "execution_count": 5,
      "outputs": []
    },
    {
      "cell_type": "markdown",
      "metadata": {
        "id": "Rv-VvlPcbe-s"
      },
      "source": [
        "**To determine the size of the X and Y parameters of Train and test data**"
      ]
    },
    {
      "cell_type": "code",
      "metadata": {
        "colab": {
          "base_uri": "https://localhost:8080/"
        },
        "id": "je7WZsZyVQEX",
        "outputId": "6ef718e4-cc71-4d96-e474-c29d3025e0e8"
      },
      "source": [
        "print(\"X test:\",len(X_test),\"X train:\",len(X_train))\n",
        "print(\"y test\",len(y_test),\"y train\",len(y_train))"
      ],
      "execution_count": 6,
      "outputs": [
        {
          "output_type": "stream",
          "text": [
            "X test: 12284 X train: 45615\n",
            "y test 12284 y train 45615\n"
          ],
          "name": "stdout"
        }
      ]
    },
    {
      "cell_type": "markdown",
      "metadata": {
        "id": "2t0jlp_vb46g"
      },
      "source": [
        "**Cleaning the datasets**"
      ]
    },
    {
      "cell_type": "code",
      "metadata": {
        "id": "s8hJYCbTVXkK"
      },
      "source": [
        "def clean_text(text):\n",
        "    totalStopwords = set([word.replace(\"'\",'') for word in stopwords.words('english')])\n",
        "    text = text.lower()\n",
        "    text = text.replace(\"'\",'')\n",
        "    text = re.sub('[^a-zA-Z]',' ',text)\n",
        "    words = text.split()\n",
        "    words = [lemma.lemmatize(word) for word in words if (word not in totalStopwords) and (len(word)>1)] # Remove stop words\n",
        "    text = \" \".join(words)\n",
        "    return text"
      ],
      "execution_count": 7,
      "outputs": []
    },
    {
      "cell_type": "markdown",
      "metadata": {
        "id": "zMkYQdzzcGFq"
      },
      "source": [
        "**Mapping the cleaned datasets**"
      ]
    },
    {
      "cell_type": "code",
      "metadata": {
        "id": "P9i93i0BVhWG"
      },
      "source": [
        "X_train = map(clean_text, X_train)\n",
        "X_test = map(clean_text, X_test)"
      ],
      "execution_count": 8,
      "outputs": []
    },
    {
      "cell_type": "markdown",
      "metadata": {
        "id": "hhO7fKAecPK-"
      },
      "source": [
        "**For the Model input - Configuring  the datasets into a list**"
      ]
    },
    {
      "cell_type": "code",
      "metadata": {
        "id": "2_lCehRnVmMO"
      },
      "source": [
        "X_train = list(X_train)\n",
        "X_test = list(X_test)"
      ],
      "execution_count": 9,
      "outputs": []
    },
    {
      "cell_type": "markdown",
      "metadata": {
        "id": "Yu7o7iQHcyBP"
      },
      "source": [
        "**Encoding each word into a label**"
      ]
    },
    {
      "cell_type": "code",
      "metadata": {
        "id": "NL5balXbVrgm"
      },
      "source": [
        "le = LabelEncoder()\n",
        "y_train = le.fit_transform(y_train)\n",
        "y_test = le.transform(y_test)"
      ],
      "execution_count": 10,
      "outputs": []
    },
    {
      "cell_type": "markdown",
      "metadata": {
        "id": "yYI7fOzyc7OH"
      },
      "source": [
        "**Vectorizing the Datasets**"
      ]
    },
    {
      "cell_type": "code",
      "metadata": {
        "id": "wT_KQTISVvVu"
      },
      "source": [
        "vectorizer = TfidfVectorizer()\n",
        "X_train = vectorizer.fit_transform(X_train)\n",
        "X_test = vectorizer.transform(X_test)"
      ],
      "execution_count": 11,
      "outputs": []
    },
    {
      "cell_type": "markdown",
      "metadata": {
        "id": "9ROrELO0dGqL"
      },
      "source": [
        "**Training the SVC on training dataset**"
      ]
    },
    {
      "cell_type": "code",
      "metadata": {
        "colab": {
          "base_uri": "https://localhost:8080/"
        },
        "id": "nhbdoSQvV0ZO",
        "outputId": "5848c845-5bcd-40e7-8308-ce98ca0f12e5"
      },
      "source": [
        "from sklearn.svm import SVC\n",
        "\n",
        "model = SVC()\n",
        "model.fit(X_train, y_train)\n",
        "\n",
        "# print prediction results\n",
        "predictions = model.predict(X_test)\n",
        "print(classification_report(y_test, predictions))"
      ],
      "execution_count": 12,
      "outputs": [
        {
          "output_type": "stream",
          "text": [
            "              precision    recall  f1-score   support\n",
            "\n",
            "           0       0.74      0.23      0.35      3972\n",
            "           1       0.56      0.85      0.68      5937\n",
            "           2       0.58      0.49      0.53      2375\n",
            "\n",
            "    accuracy                           0.58     12284\n",
            "   macro avg       0.63      0.53      0.52     12284\n",
            "weighted avg       0.62      0.58      0.54     12284\n",
            "\n"
          ],
          "name": "stdout"
        }
      ]
    },
    {
      "cell_type": "markdown",
      "metadata": {
        "id": "PSwqoM14dRpe"
      },
      "source": [
        "**Accuracy Score on default values**"
      ]
    },
    {
      "cell_type": "code",
      "metadata": {
        "colab": {
          "base_uri": "https://localhost:8080/"
        },
        "id": "Sea3A4TtV7hL",
        "outputId": "96bdd7fc-0e7a-4b57-9e5b-95751a05a933"
      },
      "source": [
        "accuracy_score(y_test, predictions)"
      ],
      "execution_count": 13,
      "outputs": [
        {
          "output_type": "execute_result",
          "data": {
            "text/plain": [
              "0.5816509280364702"
            ]
          },
          "metadata": {
            "tags": []
          },
          "execution_count": 13
        }
      ]
    },
    {
      "cell_type": "markdown",
      "metadata": {
        "id": "mj2sqCyedaaZ"
      },
      "source": [
        "**Employing the Grid Search Corss Validation to select the best parameters for optimum accuracy**"
      ]
    },
    {
      "cell_type": "code",
      "metadata": {
        "colab": {
          "base_uri": "https://localhost:8080/"
        },
        "id": "oBBJxSlSWAcq",
        "outputId": "c154dbf9-37a9-4aed-ca9e-16061e604bc2"
      },
      "source": [
        "from sklearn.model_selection import GridSearchCV\n",
        "  \n",
        "# defining parameter range\n",
        "param_grid = {'C': [0.1, 1], \n",
        "              'gamma': [1, 0.1],\n",
        "              'kernel': ['rbf']} \n",
        "  \n",
        "grid = GridSearchCV(SVC(), param_grid, refit = True, verbose = 3)\n",
        "  \n",
        "# fitting the model for grid search\n",
        "grid.fit(X_train, y_train)"
      ],
      "execution_count": 14,
      "outputs": [
        {
          "output_type": "stream",
          "text": [
            "Fitting 5 folds for each of 4 candidates, totalling 20 fits\n",
            "[CV] C=0.1, gamma=1, kernel=rbf ......................................\n"
          ],
          "name": "stdout"
        },
        {
          "output_type": "stream",
          "text": [
            "[Parallel(n_jobs=1)]: Using backend SequentialBackend with 1 concurrent workers.\n"
          ],
          "name": "stderr"
        },
        {
          "output_type": "stream",
          "text": [
            "[CV] .......... C=0.1, gamma=1, kernel=rbf, score=0.541, total= 7.1min\n",
            "[CV] C=0.1, gamma=1, kernel=rbf ......................................\n"
          ],
          "name": "stdout"
        },
        {
          "output_type": "stream",
          "text": [
            "[Parallel(n_jobs=1)]: Done   1 out of   1 | elapsed:  7.1min remaining:    0.0s\n"
          ],
          "name": "stderr"
        },
        {
          "output_type": "stream",
          "text": [
            "[CV] .......... C=0.1, gamma=1, kernel=rbf, score=0.537, total= 7.2min\n",
            "[CV] C=0.1, gamma=1, kernel=rbf ......................................\n"
          ],
          "name": "stdout"
        },
        {
          "output_type": "stream",
          "text": [
            "[Parallel(n_jobs=1)]: Done   2 out of   2 | elapsed: 14.3min remaining:    0.0s\n"
          ],
          "name": "stderr"
        },
        {
          "output_type": "stream",
          "text": [
            "[CV] .......... C=0.1, gamma=1, kernel=rbf, score=0.541, total= 7.2min\n",
            "[CV] C=0.1, gamma=1, kernel=rbf ......................................\n",
            "[CV] .......... C=0.1, gamma=1, kernel=rbf, score=0.540, total= 7.3min\n",
            "[CV] C=0.1, gamma=1, kernel=rbf ......................................\n",
            "[CV] .......... C=0.1, gamma=1, kernel=rbf, score=0.535, total= 7.3min\n",
            "[CV] C=0.1, gamma=0.1, kernel=rbf ....................................\n",
            "[CV] ........ C=0.1, gamma=0.1, kernel=rbf, score=0.489, total= 5.5min\n",
            "[CV] C=0.1, gamma=0.1, kernel=rbf ....................................\n",
            "[CV] ........ C=0.1, gamma=0.1, kernel=rbf, score=0.488, total= 5.5min\n",
            "[CV] C=0.1, gamma=0.1, kernel=rbf ....................................\n",
            "[CV] ........ C=0.1, gamma=0.1, kernel=rbf, score=0.492, total= 5.7min\n",
            "[CV] C=0.1, gamma=0.1, kernel=rbf ....................................\n",
            "[CV] ........ C=0.1, gamma=0.1, kernel=rbf, score=0.492, total= 5.5min\n",
            "[CV] C=0.1, gamma=0.1, kernel=rbf ....................................\n",
            "[CV] ........ C=0.1, gamma=0.1, kernel=rbf, score=0.491, total= 5.6min\n",
            "[CV] C=1, gamma=1, kernel=rbf ........................................\n",
            "[CV] ............ C=1, gamma=1, kernel=rbf, score=0.648, total=11.4min\n",
            "[CV] C=1, gamma=1, kernel=rbf ........................................\n",
            "[CV] ............ C=1, gamma=1, kernel=rbf, score=0.656, total=11.5min\n",
            "[CV] C=1, gamma=1, kernel=rbf ........................................\n",
            "[CV] ............ C=1, gamma=1, kernel=rbf, score=0.654, total=11.2min\n",
            "[CV] C=1, gamma=1, kernel=rbf ........................................\n",
            "[CV] ............ C=1, gamma=1, kernel=rbf, score=0.651, total=11.4min\n",
            "[CV] C=1, gamma=1, kernel=rbf ........................................\n",
            "[CV] ............ C=1, gamma=1, kernel=rbf, score=0.638, total=11.5min\n",
            "[CV] C=1, gamma=0.1, kernel=rbf ......................................\n",
            "[CV] .......... C=1, gamma=0.1, kernel=rbf, score=0.621, total= 5.3min\n",
            "[CV] C=1, gamma=0.1, kernel=rbf ......................................\n",
            "[CV] .......... C=1, gamma=0.1, kernel=rbf, score=0.620, total= 5.5min\n",
            "[CV] C=1, gamma=0.1, kernel=rbf ......................................\n",
            "[CV] .......... C=1, gamma=0.1, kernel=rbf, score=0.626, total= 5.2min\n",
            "[CV] C=1, gamma=0.1, kernel=rbf ......................................\n",
            "[CV] .......... C=1, gamma=0.1, kernel=rbf, score=0.617, total= 5.4min\n",
            "[CV] C=1, gamma=0.1, kernel=rbf ......................................\n",
            "[CV] .......... C=1, gamma=0.1, kernel=rbf, score=0.607, total= 5.3min\n"
          ],
          "name": "stdout"
        },
        {
          "output_type": "stream",
          "text": [
            "[Parallel(n_jobs=1)]: Done  20 out of  20 | elapsed: 147.8min finished\n"
          ],
          "name": "stderr"
        },
        {
          "output_type": "execute_result",
          "data": {
            "text/plain": [
              "GridSearchCV(cv=None, error_score=nan,\n",
              "             estimator=SVC(C=1.0, break_ties=False, cache_size=200,\n",
              "                           class_weight=None, coef0=0.0,\n",
              "                           decision_function_shape='ovr', degree=3,\n",
              "                           gamma='scale', kernel='rbf', max_iter=-1,\n",
              "                           probability=False, random_state=None, shrinking=True,\n",
              "                           tol=0.001, verbose=False),\n",
              "             iid='deprecated', n_jobs=None,\n",
              "             param_grid={'C': [0.1, 1], 'gamma': [1, 0.1], 'kernel': ['rbf']},\n",
              "             pre_dispatch='2*n_jobs', refit=True, return_train_score=False,\n",
              "             scoring=None, verbose=3)"
            ]
          },
          "metadata": {
            "tags": []
          },
          "execution_count": 14
        }
      ]
    },
    {
      "cell_type": "markdown",
      "metadata": {
        "id": "HUbp28L7dtZq"
      },
      "source": [
        "**Printing the best parameters and estimates**"
      ]
    },
    {
      "cell_type": "code",
      "metadata": {
        "colab": {
          "base_uri": "https://localhost:8080/"
        },
        "id": "GMLJMxzvWIt7",
        "outputId": "5562cea7-38be-4f5a-a4da-ee7625905d79"
      },
      "source": [
        "# print best parameter after tuning\n",
        "print(grid.best_params_)\n",
        "  \n",
        "# print how our model looks after hyper-parameter tuning\n",
        "print(grid.best_estimator_)"
      ],
      "execution_count": 15,
      "outputs": [
        {
          "output_type": "stream",
          "text": [
            "{'C': 1, 'gamma': 1, 'kernel': 'rbf'}\n",
            "SVC(C=1, break_ties=False, cache_size=200, class_weight=None, coef0=0.0,\n",
            "    decision_function_shape='ovr', degree=3, gamma=1, kernel='rbf', max_iter=-1,\n",
            "    probability=False, random_state=None, shrinking=True, tol=0.001,\n",
            "    verbose=False)\n"
          ],
          "name": "stdout"
        }
      ]
    },
    {
      "cell_type": "markdown",
      "metadata": {
        "id": "T2p68AAPd4it"
      },
      "source": [
        "**Prediction of the best scores using the Grid Search Algorithm model**"
      ]
    },
    {
      "cell_type": "code",
      "metadata": {
        "colab": {
          "base_uri": "https://localhost:8080/"
        },
        "id": "5xN_KEmHWMNO",
        "outputId": "7617ad78-61f9-488c-937b-dd5322bde415"
      },
      "source": [
        "grid_predictions = grid.predict(X_test)\n",
        "  \n",
        "# print classification report\n",
        "print(classification_report(y_test, grid_predictions))"
      ],
      "execution_count": 16,
      "outputs": [
        {
          "output_type": "stream",
          "text": [
            "              precision    recall  f1-score   support\n",
            "\n",
            "           0       0.74      0.23      0.35      3972\n",
            "           1       0.56      0.85      0.68      5937\n",
            "           2       0.58      0.49      0.53      2375\n",
            "\n",
            "    accuracy                           0.58     12284\n",
            "   macro avg       0.63      0.53      0.52     12284\n",
            "weighted avg       0.62      0.58      0.54     12284\n",
            "\n"
          ],
          "name": "stdout"
        }
      ]
    },
    {
      "cell_type": "markdown",
      "metadata": {
        "id": "rsixZiq-eEIS"
      },
      "source": [
        "**Optimum Acccuracy after employing the Grid Search parameters**"
      ]
    },
    {
      "cell_type": "code",
      "metadata": {
        "colab": {
          "base_uri": "https://localhost:8080/"
        },
        "id": "Y2YE_VhVWS2W",
        "outputId": "9d06001c-fd36-4ccf-f0db-2f2646a37a10"
      },
      "source": [
        "accuracy_score(y_test, grid_predictions)"
      ],
      "execution_count": 17,
      "outputs": [
        {
          "output_type": "execute_result",
          "data": {
            "text/plain": [
              "0.5817323347443829"
            ]
          },
          "metadata": {
            "tags": []
          },
          "execution_count": 17
        }
      ]
    }
  ]
}